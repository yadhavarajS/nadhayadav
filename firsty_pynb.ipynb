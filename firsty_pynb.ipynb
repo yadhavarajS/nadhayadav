{
  "nbformat": 4,
  "nbformat_minor": 0,
  "metadata": {
    "colab": {
      "name": "firsty.pynb",
      "provenance": [],
      "authorship_tag": "ABX9TyPZaBAGQTBgONcydzzbmZ+V",
      "include_colab_link": true
    },
    "kernelspec": {
      "name": "python3",
      "display_name": "Python 3"
    },
    "language_info": {
      "name": "python"
    }
  },
  "cells": [
    {
      "cell_type": "markdown",
      "metadata": {
        "id": "view-in-github",
        "colab_type": "text"
      },
      "source": [
        "<a href=\"https://colab.research.google.com/github/yadhavarajS/nadhayadav/blob/main/firsty_pynb.ipynb\" target=\"_parent\"><img src=\"https://colab.research.google.com/assets/colab-badge.svg\" alt=\"Open In Colab\"/></a>"
      ]
    },
    {
      "cell_type": "code",
      "execution_count": null,
      "metadata": {
        "colab": {
          "base_uri": "https://localhost:8080/"
        },
        "id": "ASSJLJXqCj_I",
        "outputId": "dd996375-3b50-452b-c85c-9e95af6c43a7"
      },
      "outputs": [
        {
          "output_type": "stream",
          "name": "stdout",
          "text": [
            "hahakalyanam\n"
          ]
        }
      ],
      "source": [
        "a=\"haha\"\n",
        "b=\"kalyanam\"\n",
        "c=a+b\n",
        "print(c)"
      ]
    },
    {
      "cell_type": "code",
      "source": [
        "x=1\n",
        "y=2\n",
        "print(x+y)"
      ],
      "metadata": {
        "colab": {
          "base_uri": "https://localhost:8080/"
        },
        "id": "U82hEZdcEHmq",
        "outputId": "8d18ea7f-b52a-4c50-9b37-fb7efbf73f37"
      },
      "execution_count": null,
      "outputs": [
        {
          "output_type": "stream",
          "name": "stdout",
          "text": [
            "3\n"
          ]
        }
      ]
    },
    {
      "cell_type": "code",
      "source": [
        "b=9.8\n",
        "a=\"haha\"\n",
        "\n",
        "(type (b))"
      ],
      "metadata": {
        "colab": {
          "base_uri": "https://localhost:8080/"
        },
        "id": "2_2DXgaWEXfI",
        "outputId": "72e90590-70be-4059-f7a5-7dbdcfd2c422"
      },
      "execution_count": null,
      "outputs": [
        {
          "output_type": "execute_result",
          "data": {
            "text/plain": [
              "float"
            ]
          },
          "metadata": {},
          "execution_count": 14
        }
      ]
    },
    {
      "cell_type": "code",
      "source": [
        "x=10j\n",
        "type(x)"
      ],
      "metadata": {
        "colab": {
          "base_uri": "https://localhost:8080/"
        },
        "id": "dfP1BBp5C5ye",
        "outputId": "6484b7b0-a5fd-4b14-86d0-8b9a7cdd7eba"
      },
      "execution_count": null,
      "outputs": [
        {
          "output_type": "execute_result",
          "data": {
            "text/plain": [
              "complex"
            ]
          },
          "metadata": {},
          "execution_count": 16
        }
      ]
    },
    {
      "cell_type": "code",
      "source": [
        "x=10<4\n",
        "type(x)\n",
        "x"
      ],
      "metadata": {
        "colab": {
          "base_uri": "https://localhost:8080/"
        },
        "id": "gwnmZcy8GyIg",
        "outputId": "97a7cbd4-349a-4465-e6a9-40a152e5e13d"
      },
      "execution_count": null,
      "outputs": [
        {
          "output_type": "execute_result",
          "data": {
            "text/plain": [
              "False"
            ]
          },
          "metadata": {},
          "execution_count": 19
        }
      ]
    },
    {
      "cell_type": "code",
      "source": [
        "x=input(\"enter ur name\")\n",
        "y=\"hi    \"\n",
        "print(y+x)"
      ],
      "metadata": {
        "colab": {
          "base_uri": "https://localhost:8080/"
        },
        "id": "1aLMPpYuHidH",
        "outputId": "5c778c68-b22d-4756-9450-5004f5a82775"
      },
      "execution_count": null,
      "outputs": [
        {
          "output_type": "stream",
          "name": "stdout",
          "text": [
            "enter ur namekaipulla\n",
            "hi    kaipulla\n"
          ]
        }
      ]
    },
    {
      "cell_type": "code",
      "source": [
        "name=\"jugg\"\n",
        "print(name[0:1])"
      ],
      "metadata": {
        "colab": {
          "base_uri": "https://localhost:8080/"
        },
        "id": "gyoOH2EjH9Kg",
        "outputId": "7083a036-5206-4faf-9332-ab80fee2a6f0"
      },
      "execution_count": null,
      "outputs": [
        {
          "output_type": "stream",
          "name": "stdout",
          "text": [
            "j\n"
          ]
        }
      ]
    },
    {
      "cell_type": "code",
      "source": [
        "\n"
      ],
      "metadata": {
        "id": "9wjc2XTqKhSj"
      },
      "execution_count": null,
      "outputs": []
    }
  ]
}